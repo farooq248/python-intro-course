{
 "cells": [
  {
   "cell_type": "code",
   "execution_count": 1,
   "id": "5175036e-a533-4a82-91b9-582b6e1a9196",
   "metadata": {
    "scrolled": true
   },
   "outputs": [
    {
     "name": "stdout",
     "output_type": "stream",
     "text": [
      "No 'units' attribute found in 'valid_time'. Using the values as is.\n",
      "Latitude range in dataset: 20.292280999999985 to 75.34678492314951\n",
      "Longitude range in dataset: -58.10508276341616 to 74.10508163756856\n"
     ]
    },
    {
     "ename": "IndexError",
     "evalue": "range object index out of range",
     "output_type": "error",
     "traceback": [
      "\u001b[0;31m---------------------------------------------------------------------------\u001b[0m",
      "\u001b[0;31mIndexError\u001b[0m                                Traceback (most recent call last)",
      "Cell \u001b[0;32mIn[1], line 54\u001b[0m\n\u001b[1;32m     51\u001b[0m     \u001b[38;5;28;01mraise\u001b[39;00m \u001b[38;5;167;01mIndexError\u001b[39;00m(\u001b[38;5;124mf\u001b[39m\u001b[38;5;124m\"\u001b[39m\u001b[38;5;124mIndex out of range: lat_idx=\u001b[39m\u001b[38;5;132;01m{\u001b[39;00mlat_idx\u001b[38;5;132;01m}\u001b[39;00m\u001b[38;5;124m, lon_idx=\u001b[39m\u001b[38;5;132;01m{\u001b[39;00mlon_idx\u001b[38;5;132;01m}\u001b[39;00m\u001b[38;5;124m\"\u001b[39m)\n\u001b[1;32m     53\u001b[0m \u001b[38;5;66;03m# Extract the data at the nearest grid point\u001b[39;00m\n\u001b[0;32m---> 54\u001b[0m wdir10 \u001b[38;5;241m=\u001b[39m \u001b[43mds\u001b[49m\u001b[43m[\u001b[49m\u001b[38;5;124;43m'\u001b[39;49m\u001b[38;5;124;43mwdir10\u001b[39;49m\u001b[38;5;124;43m'\u001b[39;49m\u001b[43m]\u001b[49m\u001b[43m[\u001b[49m\u001b[43m:\u001b[49m\u001b[43m,\u001b[49m\u001b[43m \u001b[49m\u001b[43mlat_idx\u001b[49m\u001b[43m,\u001b[49m\u001b[43m \u001b[49m\u001b[43mlon_idx\u001b[49m\u001b[43m]\u001b[49m\n\u001b[1;32m     55\u001b[0m si10 \u001b[38;5;241m=\u001b[39m ds[\u001b[38;5;124m'\u001b[39m\u001b[38;5;124msi10\u001b[39m\u001b[38;5;124m'\u001b[39m][:, lat_idx, lon_idx]\n\u001b[1;32m     56\u001b[0m r2 \u001b[38;5;241m=\u001b[39m ds[\u001b[38;5;124m'\u001b[39m\u001b[38;5;124mr2\u001b[39m\u001b[38;5;124m'\u001b[39m][:, lat_idx, lon_idx]\n",
      "File \u001b[0;32m/opt/imfse/lib/python3.11/site-packages/xarray/core/dataarray.py:876\u001b[0m, in \u001b[0;36mDataArray.__getitem__\u001b[0;34m(self, key)\u001b[0m\n\u001b[1;32m    873\u001b[0m     \u001b[38;5;28;01mreturn\u001b[39;00m \u001b[38;5;28mself\u001b[39m\u001b[38;5;241m.\u001b[39m_getitem_coord(key)\n\u001b[1;32m    874\u001b[0m \u001b[38;5;28;01melse\u001b[39;00m:\n\u001b[1;32m    875\u001b[0m     \u001b[38;5;66;03m# xarray-style array indexing\u001b[39;00m\n\u001b[0;32m--> 876\u001b[0m     \u001b[38;5;28;01mreturn\u001b[39;00m \u001b[38;5;28;43mself\u001b[39;49m\u001b[38;5;241;43m.\u001b[39;49m\u001b[43misel\u001b[49m\u001b[43m(\u001b[49m\u001b[43mindexers\u001b[49m\u001b[38;5;241;43m=\u001b[39;49m\u001b[38;5;28;43mself\u001b[39;49m\u001b[38;5;241;43m.\u001b[39;49m\u001b[43m_item_key_to_dict\u001b[49m\u001b[43m(\u001b[49m\u001b[43mkey\u001b[49m\u001b[43m)\u001b[49m\u001b[43m)\u001b[49m\n",
      "File \u001b[0;32m/opt/imfse/lib/python3.11/site-packages/xarray/core/dataarray.py:1509\u001b[0m, in \u001b[0;36mDataArray.isel\u001b[0;34m(self, indexers, drop, missing_dims, **indexers_kwargs)\u001b[0m\n\u001b[1;32m   1504\u001b[0m     \u001b[38;5;28;01mreturn\u001b[39;00m \u001b[38;5;28mself\u001b[39m\u001b[38;5;241m.\u001b[39m_from_temp_dataset(ds)\n\u001b[1;32m   1506\u001b[0m \u001b[38;5;66;03m# Much faster algorithm for when all indexers are ints, slices, one-dimensional\u001b[39;00m\n\u001b[1;32m   1507\u001b[0m \u001b[38;5;66;03m# lists, or zero or one-dimensional np.ndarray's\u001b[39;00m\n\u001b[0;32m-> 1509\u001b[0m variable \u001b[38;5;241m=\u001b[39m \u001b[38;5;28;43mself\u001b[39;49m\u001b[38;5;241;43m.\u001b[39;49m\u001b[43m_variable\u001b[49m\u001b[38;5;241;43m.\u001b[39;49m\u001b[43misel\u001b[49m\u001b[43m(\u001b[49m\u001b[43mindexers\u001b[49m\u001b[43m,\u001b[49m\u001b[43m \u001b[49m\u001b[43mmissing_dims\u001b[49m\u001b[38;5;241;43m=\u001b[39;49m\u001b[43mmissing_dims\u001b[49m\u001b[43m)\u001b[49m\n\u001b[1;32m   1510\u001b[0m indexes, index_variables \u001b[38;5;241m=\u001b[39m isel_indexes(\u001b[38;5;28mself\u001b[39m\u001b[38;5;241m.\u001b[39mxindexes, indexers)\n\u001b[1;32m   1512\u001b[0m coords \u001b[38;5;241m=\u001b[39m {}\n",
      "File \u001b[0;32m/opt/imfse/lib/python3.11/site-packages/xarray/core/variable.py:1033\u001b[0m, in \u001b[0;36mVariable.isel\u001b[0;34m(self, indexers, missing_dims, **indexers_kwargs)\u001b[0m\n\u001b[1;32m   1030\u001b[0m indexers \u001b[38;5;241m=\u001b[39m drop_dims_from_indexers(indexers, \u001b[38;5;28mself\u001b[39m\u001b[38;5;241m.\u001b[39mdims, missing_dims)\n\u001b[1;32m   1032\u001b[0m key \u001b[38;5;241m=\u001b[39m \u001b[38;5;28mtuple\u001b[39m(indexers\u001b[38;5;241m.\u001b[39mget(dim, \u001b[38;5;28mslice\u001b[39m(\u001b[38;5;28;01mNone\u001b[39;00m)) \u001b[38;5;28;01mfor\u001b[39;00m dim \u001b[38;5;129;01min\u001b[39;00m \u001b[38;5;28mself\u001b[39m\u001b[38;5;241m.\u001b[39mdims)\n\u001b[0;32m-> 1033\u001b[0m \u001b[38;5;28;01mreturn\u001b[39;00m \u001b[38;5;28;43mself\u001b[39;49m\u001b[43m[\u001b[49m\u001b[43mkey\u001b[49m\u001b[43m]\u001b[49m\n",
      "File \u001b[0;32m/opt/imfse/lib/python3.11/site-packages/xarray/core/variable.py:800\u001b[0m, in \u001b[0;36mVariable.__getitem__\u001b[0;34m(self, key)\u001b[0m\n\u001b[1;32m    797\u001b[0m dims, indexer, new_order \u001b[38;5;241m=\u001b[39m \u001b[38;5;28mself\u001b[39m\u001b[38;5;241m.\u001b[39m_broadcast_indexes(key)\n\u001b[1;32m    798\u001b[0m indexable \u001b[38;5;241m=\u001b[39m as_indexable(\u001b[38;5;28mself\u001b[39m\u001b[38;5;241m.\u001b[39m_data)\n\u001b[0;32m--> 800\u001b[0m data \u001b[38;5;241m=\u001b[39m \u001b[43mindexing\u001b[49m\u001b[38;5;241;43m.\u001b[39;49m\u001b[43mapply_indexer\u001b[49m\u001b[43m(\u001b[49m\u001b[43mindexable\u001b[49m\u001b[43m,\u001b[49m\u001b[43m \u001b[49m\u001b[43mindexer\u001b[49m\u001b[43m)\u001b[49m\n\u001b[1;32m    802\u001b[0m \u001b[38;5;28;01mif\u001b[39;00m new_order:\n\u001b[1;32m    803\u001b[0m     data \u001b[38;5;241m=\u001b[39m np\u001b[38;5;241m.\u001b[39mmoveaxis(data, \u001b[38;5;28mrange\u001b[39m(\u001b[38;5;28mlen\u001b[39m(new_order)), new_order)\n",
      "File \u001b[0;32m/opt/imfse/lib/python3.11/site-packages/xarray/core/indexing.py:1029\u001b[0m, in \u001b[0;36mapply_indexer\u001b[0;34m(indexable, indexer)\u001b[0m\n\u001b[1;32m   1027\u001b[0m     \u001b[38;5;28;01mreturn\u001b[39;00m indexable\u001b[38;5;241m.\u001b[39moindex[indexer]\n\u001b[1;32m   1028\u001b[0m \u001b[38;5;28;01melse\u001b[39;00m:\n\u001b[0;32m-> 1029\u001b[0m     \u001b[38;5;28;01mreturn\u001b[39;00m \u001b[43mindexable\u001b[49m\u001b[43m[\u001b[49m\u001b[43mindexer\u001b[49m\u001b[43m]\u001b[49m\n",
      "File \u001b[0;32m/opt/imfse/lib/python3.11/site-packages/xarray/core/indexing.py:847\u001b[0m, in \u001b[0;36mMemoryCachedArray.__getitem__\u001b[0;34m(self, indexer)\u001b[0m\n\u001b[1;32m    845\u001b[0m \u001b[38;5;28;01mdef\u001b[39;00m \u001b[38;5;21m__getitem__\u001b[39m(\u001b[38;5;28mself\u001b[39m, indexer: ExplicitIndexer):\n\u001b[1;32m    846\u001b[0m     \u001b[38;5;28mself\u001b[39m\u001b[38;5;241m.\u001b[39m_check_and_raise_if_non_basic_indexer(indexer)\n\u001b[0;32m--> 847\u001b[0m     \u001b[38;5;28;01mreturn\u001b[39;00m \u001b[38;5;28mtype\u001b[39m(\u001b[38;5;28mself\u001b[39m)(_wrap_numpy_scalars(\u001b[38;5;28;43mself\u001b[39;49m\u001b[38;5;241;43m.\u001b[39;49m\u001b[43marray\u001b[49m\u001b[43m[\u001b[49m\u001b[43mindexer\u001b[49m\u001b[43m]\u001b[49m))\n",
      "File \u001b[0;32m/opt/imfse/lib/python3.11/site-packages/xarray/core/indexing.py:797\u001b[0m, in \u001b[0;36mCopyOnWriteArray.__getitem__\u001b[0;34m(self, indexer)\u001b[0m\n\u001b[1;32m    795\u001b[0m \u001b[38;5;28;01mdef\u001b[39;00m \u001b[38;5;21m__getitem__\u001b[39m(\u001b[38;5;28mself\u001b[39m, indexer: ExplicitIndexer):\n\u001b[1;32m    796\u001b[0m     \u001b[38;5;28mself\u001b[39m\u001b[38;5;241m.\u001b[39m_check_and_raise_if_non_basic_indexer(indexer)\n\u001b[0;32m--> 797\u001b[0m     \u001b[38;5;28;01mreturn\u001b[39;00m \u001b[38;5;28mtype\u001b[39m(\u001b[38;5;28mself\u001b[39m)(_wrap_numpy_scalars(\u001b[38;5;28;43mself\u001b[39;49m\u001b[38;5;241;43m.\u001b[39;49m\u001b[43marray\u001b[49m\u001b[43m[\u001b[49m\u001b[43mindexer\u001b[49m\u001b[43m]\u001b[49m))\n",
      "File \u001b[0;32m/opt/imfse/lib/python3.11/site-packages/xarray/core/indexing.py:672\u001b[0m, in \u001b[0;36mLazilyIndexedArray.__getitem__\u001b[0;34m(self, indexer)\u001b[0m\n\u001b[1;32m    670\u001b[0m \u001b[38;5;28;01mdef\u001b[39;00m \u001b[38;5;21m__getitem__\u001b[39m(\u001b[38;5;28mself\u001b[39m, indexer: ExplicitIndexer):\n\u001b[1;32m    671\u001b[0m     \u001b[38;5;28mself\u001b[39m\u001b[38;5;241m.\u001b[39m_check_and_raise_if_non_basic_indexer(indexer)\n\u001b[0;32m--> 672\u001b[0m     \u001b[38;5;28;01mreturn\u001b[39;00m \u001b[38;5;28mtype\u001b[39m(\u001b[38;5;28mself\u001b[39m)(\u001b[38;5;28mself\u001b[39m\u001b[38;5;241m.\u001b[39marray, \u001b[38;5;28;43mself\u001b[39;49m\u001b[38;5;241;43m.\u001b[39;49m\u001b[43m_updated_key\u001b[49m\u001b[43m(\u001b[49m\u001b[43mindexer\u001b[49m\u001b[43m)\u001b[49m)\n",
      "File \u001b[0;32m/opt/imfse/lib/python3.11/site-packages/xarray/core/indexing.py:633\u001b[0m, in \u001b[0;36mLazilyIndexedArray._updated_key\u001b[0;34m(self, new_key)\u001b[0m\n\u001b[1;32m    631\u001b[0m         full_key\u001b[38;5;241m.\u001b[39mappend(k)\n\u001b[1;32m    632\u001b[0m     \u001b[38;5;28;01melse\u001b[39;00m:\n\u001b[0;32m--> 633\u001b[0m         full_key\u001b[38;5;241m.\u001b[39mappend(\u001b[43m_index_indexer_1d\u001b[49m\u001b[43m(\u001b[49m\u001b[43mk\u001b[49m\u001b[43m,\u001b[49m\u001b[43m \u001b[49m\u001b[38;5;28;43mnext\u001b[39;49m\u001b[43m(\u001b[49m\u001b[43miter_new_key\u001b[49m\u001b[43m)\u001b[49m\u001b[43m,\u001b[49m\u001b[43m \u001b[49m\u001b[43msize\u001b[49m\u001b[43m)\u001b[49m)\n\u001b[1;32m    634\u001b[0m full_key_tuple \u001b[38;5;241m=\u001b[39m \u001b[38;5;28mtuple\u001b[39m(full_key)\n\u001b[1;32m    636\u001b[0m \u001b[38;5;28;01mif\u001b[39;00m \u001b[38;5;28mall\u001b[39m(\u001b[38;5;28misinstance\u001b[39m(k, integer_types \u001b[38;5;241m+\u001b[39m (\u001b[38;5;28mslice\u001b[39m,)) \u001b[38;5;28;01mfor\u001b[39;00m k \u001b[38;5;129;01min\u001b[39;00m full_key_tuple):\n",
      "File \u001b[0;32m/opt/imfse/lib/python3.11/site-packages/xarray/core/indexing.py:306\u001b[0m, in \u001b[0;36m_index_indexer_1d\u001b[0;34m(old_indexer, applied_indexer, size)\u001b[0m\n\u001b[1;32m    304\u001b[0m     indexer \u001b[38;5;241m=\u001b[39m slice_slice(old_indexer, applied_indexer, size)\n\u001b[1;32m    305\u001b[0m \u001b[38;5;28;01melif\u001b[39;00m \u001b[38;5;28misinstance\u001b[39m(applied_indexer, integer_types):\n\u001b[0;32m--> 306\u001b[0m     indexer \u001b[38;5;241m=\u001b[39m \u001b[38;5;28;43mrange\u001b[39;49m\u001b[43m(\u001b[49m\u001b[38;5;241;43m*\u001b[39;49m\u001b[43mold_indexer\u001b[49m\u001b[38;5;241;43m.\u001b[39;49m\u001b[43mindices\u001b[49m\u001b[43m(\u001b[49m\u001b[43msize\u001b[49m\u001b[43m)\u001b[49m\u001b[43m)\u001b[49m\u001b[43m[\u001b[49m\u001b[43mapplied_indexer\u001b[49m\u001b[43m]\u001b[49m  \u001b[38;5;66;03m# type: ignore[assignment]\u001b[39;00m\n\u001b[1;32m    307\u001b[0m \u001b[38;5;28;01melse\u001b[39;00m:\n\u001b[1;32m    308\u001b[0m     indexer \u001b[38;5;241m=\u001b[39m _expand_slice(old_indexer, size)[applied_indexer]\n",
      "\u001b[0;31mIndexError\u001b[0m: range object index out of range"
     ]
    }
   ],
   "source": [
    "#import libraries\n",
    "import xarray as xr\n",
    "import netCDF4\n",
    "import cftime\n",
    "import pyproj\n",
    "import numpy as np\n",
    "from datetime import datetime\n",
    "\n",
    "# Path to the NetCDF file\n",
    "fileinput = '/data/IMFSE/PythonCourse/CDS/CERRA/cerra-2000.nc'\n",
    "\n",
    "# Open the dataset\n",
    "ds = xr.open_dataset(fileinput)\n",
    "\n",
    "# Check if 'valid_time' has the 'units' attribute for conversion\n",
    "time_var = ds[\"valid_time\"]\n",
    "\n",
    "if 'units' in time_var.attrs:\n",
    "    units = time_var.attrs['units']  # Get units if they exist\n",
    "    times = cftime.num2date(time_var.values, units=units, calendar='standard')\n",
    "else:\n",
    "    # If no units are found, assume the time is already in a usable format\n",
    "    print(\"No 'units' attribute found in 'valid_time'. Using the values as is.\")\n",
    "    times = time_var.values\n",
    "\n",
    "# Update the 'valid_time' variable in the dataset (if converted)\n",
    "ds[\"valid_time\"] = (\"valid_time\", times)\n",
    "\n",
    "# Coordinates of the center of the burned area\n",
    "burned_area_lat = 41.709377863541654\n",
    "burned_area_lon = 1.892273844304144\n",
    "\n",
    "# Check the range of lat/lon in the dataset\n",
    "print(f\"Latitude range in dataset: {ds.latitude.min().item()} to {ds.latitude.max().item()}\")\n",
    "print(f\"Longitude range in dataset: {ds.longitude.min().item()} to {ds.longitude.max().item()}\")\n",
    "\n",
    "# Ensure the coordinates are within the dataset bounds\n",
    "if not (ds.latitude.min() <= burned_area_lat <= ds.latitude.max()) or not (ds.longitude.min() <= burned_area_lon <= ds.longitude.max()):\n",
    "    raise ValueError(\"The coordinates of the burned area are outside the bounds of the dataset\")\n",
    "\n",
    "# Find the nearest grid point to the burned area location\n",
    "abs_diff_lat = np.abs(ds.latitude - burned_area_lat)\n",
    "abs_diff_lon = np.abs(ds.longitude - burned_area_lon)\n",
    "\n",
    "# Find the index of the nearest grid point\n",
    "lat_idx = abs_diff_lat.argmin().item()\n",
    "lon_idx = abs_diff_lon.argmin().item()\n",
    "\n",
    "# Ensure lat_idx and lon_idx are within the valid range of indices\n",
    "if lat_idx < 0 or lat_idx >= ds.latitude.size or lon_idx < 0 or lon_idx >= ds.longitude.size:\n",
    "    raise IndexError(f\"Index out of range: lat_idx={lat_idx}, lon_idx={lon_idx}\")\n",
    "\n",
    "# Extract the data at the nearest grid point\n",
    "wdir10 = ds['wdir10'][:, lat_idx, lon_idx]\n",
    "si10 = ds['si10'][:, lat_idx, lon_idx]\n",
    "r2 = ds['r2'][:, lat_idx, lon_idx]\n",
    "t2m = ds['t2m'][:, lat_idx, lon_idx]\n",
    "\n",
    "# Print out the extracted variables for verification\n",
    "print(f\"10m Wind Direction (wdir10): {wdir10}\")\n",
    "print(f\"10m Wind Speed (si10): {si10}\")\n",
    "print(f\"Relative Humidity at 2m (r2): {r2}\")\n",
    "print(f\"Temperature at 2m (t2m): {t2m}\")\n",
    "\n",
    "# Optionally, plot the time series for the extracted data\n",
    "wdir10.plot(label='10m Wind Direction')\n",
    "si10.plot(label='10m Wind Speed')\n",
    "r2.plot(label='2m Relative Humidity')\n",
    "t2m.plot(label='2m Temperature')\n",
    "plt.legend()\n",
    "plt.show()\n",
    "\n"
   ]
  },
  {
   "cell_type": "code",
   "execution_count": null,
   "id": "be10ac03-2d42-4500-9d08-5babe3a8752d",
   "metadata": {},
   "outputs": [],
   "source": []
  }
 ],
 "metadata": {
  "kernelspec": {
   "display_name": "Python 3 (ipykernel)",
   "language": "python",
   "name": "python3"
  },
  "language_info": {
   "codemirror_mode": {
    "name": "ipython",
    "version": 3
   },
   "file_extension": ".py",
   "mimetype": "text/x-python",
   "name": "python",
   "nbconvert_exporter": "python",
   "pygments_lexer": "ipython3",
   "version": "3.11.2"
  }
 },
 "nbformat": 4,
 "nbformat_minor": 5
}
