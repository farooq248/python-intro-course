{
 "cells": [
  {
   "cell_type": "code",
   "execution_count": null,
   "id": "fde0c4a5-2632-42fb-a569-060281c597ad",
   "metadata": {},
   "outputs": [],
   "source": [
    "imporrt /data/IMFSE/PythonCourse/PontdeVilomara/burntArea/"
   ]
  }
 ],
 "metadata": {
  "kernelspec": {
   "display_name": "Python 3 (ipykernel)",
   "language": "python",
   "name": "python3"
  },
  "language_info": {
   "codemirror_mode": {
    "name": "ipython",
    "version": 3
   },
   "file_extension": ".py",
   "mimetype": "text/x-python",
   "name": "python",
   "nbconvert_exporter": "python",
   "pygments_lexer": "ipython3",
   "version": "3.11.2"
  }
 },
 "nbformat": 4,
 "nbformat_minor": 5
}
