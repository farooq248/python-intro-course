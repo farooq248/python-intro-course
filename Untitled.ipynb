{
 "cells": [
  {
   "cell_type": "code",
   "execution_count": 1,
   "id": "0a390412-0419-49e2-8b07-4c01f66911ba",
   "metadata": {},
   "outputs": [],
   "source": [
    "import xarray as xr\n",
    "import netCDF4\n",
    "import cartopy\n",
    "import cftime\n",
    "import pandas as pd\n",
    "from datetime import datetime\n",
    "\n",
    "import matplotlib.pyplot as plt\n",
    "import cartopy.crs as ccrs\n",
    "import cartopy.feature as cfeature\n",
    "\n",
    "import pyproj"
   ]
  },
  {
   "cell_type": "code",
   "execution_count": 2,
   "id": "3def429a-e257-4e9f-96ee-66e779d216fa",
   "metadata": {},
   "outputs": [],
   "source": [
    "fileinput = '/data/IMFSE/PythonCourse/MNH/FCAST_model1.nc'"
   ]
  },
  {
   "cell_type": "code",
   "execution_count": 4,
   "id": "db1fd9df-0430-427f-9683-2c90ade64498",
   "metadata": {},
   "outputs": [],
   "source": [
    "ds = xr.open_dataset(fileinput, decode_times=False)"
   ]
  },
  {
   "cell_type": "code",
   "execution_count": 5,
   "id": "f4b0a7a7-90d5-41f7-ae9b-f047ec18bcf5",
   "metadata": {},
   "outputs": [
    {
     "data": {
      "text/plain": [
       "<class 'netCDF4._netCDF4.Variable'>\n",
       "float64 time(time)\n",
       "    long_name: time\n",
       "    standard_name: time\n",
       "    units: seconds since fire ignition: 2022-07-16 00:00:00.000000\n",
       "unlimited dimensions: time\n",
       "current shape = (49,)\n",
       "filling on, default _FillValue of 9.969209968386869e+36 used"
      ]
     },
     "execution_count": 5,
     "metadata": {},
     "output_type": "execute_result"
    }
   ],
   "source": [
    "nc = netCDF4.Dataset(fileinput)\n",
    "nc['time']"
   ]
  },
  {
   "cell_type": "code",
   "execution_count": 6,
   "id": "67da508b-65b5-4488-81ee-ccceeb18ee1f",
   "metadata": {},
   "outputs": [
    {
     "name": "stdout",
     "output_type": "stream",
     "text": [
      "<xarray.DataArray 'time' (time: 49)> Size: 392B\n",
      "array(['2022-07-16T00:00:00.000000000', '2022-07-16T01:00:00.000000000',\n",
      "       '2022-07-16T02:00:00.000000000', '2022-07-16T03:00:00.000000000',\n",
      "       '2022-07-16T04:00:00.000000000', '2022-07-16T05:00:00.000000000',\n",
      "       '2022-07-16T06:00:00.000000000', '2022-07-16T07:00:00.000000000',\n",
      "       '2022-07-16T08:00:00.000000000', '2022-07-16T09:00:00.000000000',\n",
      "       '2022-07-16T10:00:00.000000000', '2022-07-16T11:00:00.000000000',\n",
      "       '2022-07-16T12:00:00.000000000', '2022-07-16T13:00:00.000000000',\n",
      "       '2022-07-16T14:00:00.000000000', '2022-07-16T15:00:00.000000000',\n",
      "       '2022-07-16T16:00:00.000000000', '2022-07-16T17:00:00.000000000',\n",
      "       '2022-07-16T18:00:00.000000000', '2022-07-16T19:00:00.000000000',\n",
      "       '2022-07-16T20:00:00.000000000', '2022-07-16T21:00:00.000000000',\n",
      "       '2022-07-16T22:00:00.000000000', '2022-07-16T23:00:00.000000000',\n",
      "       '2022-07-17T00:00:00.000000000', '2022-07-17T01:00:00.000000000',\n",
      "       '2022-07-17T02:00:00.000000000', '2022-07-17T03:00:00.000000000',\n",
      "       '2022-07-17T04:00:00.000000000', '2022-07-17T05:00:00.000000000',\n",
      "       '2022-07-17T06:00:00.000000000', '2022-07-17T07:00:00.000000000',\n",
      "       '2022-07-17T08:00:00.000000000', '2022-07-17T09:00:00.000000000',\n",
      "       '2022-07-17T10:00:00.000000000', '2022-07-17T11:00:00.000000000',\n",
      "       '2022-07-17T12:00:00.000000000', '2022-07-17T13:00:00.000000000',\n",
      "       '2022-07-17T14:00:00.000000000', '2022-07-17T15:00:00.000000000',\n",
      "       '2022-07-17T16:00:00.000000000', '2022-07-17T17:00:00.000000000',\n",
      "       '2022-07-17T18:00:00.000000000', '2022-07-17T19:00:00.000000000',\n",
      "       '2022-07-17T20:00:00.000000000', '2022-07-17T21:00:00.000000000',\n",
      "       '2022-07-17T22:00:00.000000000', '2022-07-17T23:00:00.000000000',\n",
      "       '2022-07-18T00:00:00.000000000'], dtype='datetime64[ns]')\n",
      "Coordinates:\n",
      "  * time     (time) datetime64[ns] 392B 2022-07-16 ... 2022-07-18\n"
     ]
    }
   ],
   "source": [
    "# Extract the time variable\n",
    "time_var = ds[\"time\"]\n",
    "\n",
    "# Get the time units, and remove the non-standard prefix\n",
    "units = time_var.attrs['units'].replace('fire ignition: ', '')\n",
    "\n",
    "# Convert the time variable using cftime\n",
    "times = cftime.num2date(time_var.values, units=units, calendar='standard')\n",
    "\n",
    "# Convert to pandas datetime if needed\n",
    "times_as_datetime = [datetime(year=t.year, month=t.month, day=t.day, \n",
    "                              hour=t.hour, minute=t.minute, second=t.second,microsecond=t.microsecond)\n",
    "                     for t in times]\n",
    "\n",
    "\n",
    "# Replace the time variable in the dataset with the converted times\n",
    "ds[\"time\"] = (\"time\", times_as_datetime)\n",
    "\n",
    "# Print the dataset to check the time conversion\n",
    "print(ds[\"time\"])"
   ]
  },
  {
   "cell_type": "code",
   "execution_count": null,
   "id": "d81b7127-4794-45be-84ab-9cbc875e0f26",
   "metadata": {},
   "outputs": [],
   "source": []
  }
 ],
 "metadata": {
  "kernelspec": {
   "display_name": "Python 3 (ipykernel)",
   "language": "python",
   "name": "python3"
  },
  "language_info": {
   "codemirror_mode": {
    "name": "ipython",
    "version": 3
   },
   "file_extension": ".py",
   "mimetype": "text/x-python",
   "name": "python",
   "nbconvert_exporter": "python",
   "pygments_lexer": "ipython3",
   "version": "3.11.2"
  }
 },
 "nbformat": 4,
 "nbformat_minor": 5
}
